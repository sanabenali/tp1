{
 "cells": [
  {
   "cell_type": "code",
   "execution_count": 1,
   "id": "db3c773b-ef6f-4908-8990-2fb3dcffac0c",
   "metadata": {},
   "outputs": [
    {
     "name": "stdout",
     "output_type": "stream",
     "text": [
      "5\n",
      "hello\n",
      "True\n"
     ]
    }
   ],
   "source": [
    "\"\"\"Variables:\n",
    "Variables are containers for storing data values. \n",
    "In Python, you don't need to declare a variable explicitly. \n",
    "The declaration happens automatically when you assign a value to a variable. \n",
    "# Déclaration et affectation d'une variable\"\"\"\n",
    "x = 5\n",
    "y = \"hello\"\n",
    "z = True\n",
    "\n",
    "# Affichage des variables\n",
    "print(x)  # Output: 5\n",
    "print(y)  # Output: hello\n",
    "print(z)  # Output: True\n"
   ]
  },
  {
   "cell_type": "code",
   "execution_count": 26,
   "id": "8094e0d7-5374-48d5-ae0d-ab7f7771badb",
   "metadata": {},
   "outputs": [
    {
     "name": "stdout",
     "output_type": "stream",
     "text": [
      "a est inférieur à b\n"
     ]
    }
   ],
   "source": [
    "\"\"\"Conditions (if-elif-else): \n",
    "Conditional statements are used to perform different actions based on different conditions. \n",
    "if is used for basic conditional execution, \n",
    "elif is used for additional conditions, and else is used for a default condition. \"\"\"\n",
    "# Condition if-elif-else\n",
    "a = 10\n",
    "b = 20\n",
    "\n",
    "if a > b:\n",
    "    print(\"a est supérieur à b\")\n",
    "elif a < b:\n",
    "    print(\"a est inférieur à b\")\n",
    "else:\n",
    "    print(\"a est égal à b\")\n"
   ]
  },
  {
   "cell_type": "code",
   "execution_count": 27,
   "id": "1f622483-ecd4-4145-a721-16a24c29aea8",
   "metadata": {},
   "outputs": [
    {
     "name": "stdout",
     "output_type": "stream",
     "text": [
      "pomme\n",
      "banane\n",
      "orange\n",
      "1\n",
      "2\n",
      "3\n",
      "4\n",
      "5\n"
     ]
    }
   ],
   "source": [
    "\"\"\"Loops (for, while):\n",
    "Loops are used to iterate over a sequence of elements.\n",
    "Python supports for and while loops. for loops are used to iterate over a sequence (like a list or tuple),\n",
    "and while loops are used to execute a block of code repeatedly as long as a condition is true. \"\"\"\n",
    "# Boucle for pour itérer sur une liste\n",
    "fruits = [\"pomme\", \"banane\", \"orange\"]\n",
    "for fruit in fruits:\n",
    "    print(fruit)\n",
    "\n",
    "# Boucle while pour exécuter un bloc de code tant qu'une condition est vraie\n",
    "num = 1\n",
    "while num <= 5:\n",
    "    print(num)\n",
    "    num += 1\n"
   ]
  },
  {
   "cell_type": "code",
   "execution_count": 28,
   "id": "b2a82055-45de-438d-b8e2-1406933f2ad1",
   "metadata": {},
   "outputs": [
    {
     "name": "stdout",
     "output_type": "stream",
     "text": [
      "8\n"
     ]
    }
   ],
   "source": [
    "\"\"\"Functions:\n",
    "Functions are blocks of reusable code that perform a specific task. \n",
    "They help in modularizing code for better readability and reusability. \n",
    "In Python, you define a function using the def keyword. \"\"\"\n",
    "# Définition d'une fonction\n",
    "def add_numbers(x, y):\n",
    "    return x + y\n",
    "\n",
    "# Appel de la fonction\n",
    "result = add_numbers(3, 5)\n",
    "print(result)  # Output: 8\n"
   ]
  },
  {
   "cell_type": "code",
   "execution_count": 29,
   "id": "bc4c8c9c-3e21-4a9c-af8d-fc673b3ef94c",
   "metadata": {},
   "outputs": [
    {
     "name": "stdout",
     "output_type": "stream",
     "text": [
      "pomme\n",
      "banane\n",
      "['pomme', 'banane', 'kiwi', 'fraise']\n",
      "['pomme', 'banane', 'kiwi', 'fraise', 'ananas']\n"
     ]
    }
   ],
   "source": [
    "\"\"\"Lists:\n",
    "Lists are ordered and mutable collections of items. \n",
    "They are defined by enclosing elements in square brackets [] and separated by commas.\n",
    "Lists support indexing and slicing.\"\"\"\n",
    "# Définition d'une liste\n",
    "fruits = [\"pomme\", \"banane\", \"orange\", \"fraise\"]\n",
    "\n",
    "# Accès aux éléments de la liste par index\n",
    "print(fruits[0])  # Output: pomme\n",
    "\n",
    "print(fruits[1])  # Output: banane\n",
    "\n",
    "# Modification d'un élément de la liste\n",
    "fruits[2] = \"kiwi\"\n",
    "print(fruits)  # Output: [\"pomme\", \"banane\", \"kiwi\", \"fraise\"]\n",
    "\n",
    "# Ajout d'un élément à la liste\n",
    "fruits.append(\"ananas\")\n",
    "print(fruits)  # Output: [\"pomme\", \"banane\", \"kiwi\", \"fraise\", \"ananas\"]\n"
   ]
  },
  {
   "cell_type": "code",
   "execution_count": 30,
   "id": "54db8e8a-269d-4552-b117-277efe47a77c",
   "metadata": {},
   "outputs": [
    {
     "name": "stdout",
     "output_type": "stream",
     "text": [
      "3\n",
      "5\n"
     ]
    }
   ],
   "source": [
    "\"\"\"Tuples:\n",
    "Tuples are ordered and immutable collections of items.\n",
    "They are defined by enclosing elements in parentheses () and separated by commas.\n",
    "Tuples support indexing and slicing. \"\"\"\n",
    "# Définition d'un tuple\n",
    "coordinates = (3, 5)\n",
    "\n",
    "# Accès aux éléments du tuple par index\n",
    "print(coordinates[0])  # Output: 3\n",
    "print(coordinates[1])  # Output: 5\n",
    "\n",
    "# Les tuples sont immuables - impossible de modifier les valeurs après la définition\n",
    "# coordinates[0] = 4  # Cette ligne générera une erreur TypeError\n"
   ]
  },
  {
   "cell_type": "code",
   "execution_count": 31,
   "id": "55846e8b-5b48-4e16-88bf-7d424413df6e",
   "metadata": {},
   "outputs": [
    {
     "name": "stdout",
     "output_type": "stream",
     "text": [
      "John\n",
      "30\n",
      "{'nom': 'John', 'âge': 30, 'ville': 'Los Angeles'}\n",
      "{'nom': 'John', 'âge': 30, 'ville': 'Los Angeles', 'profession': 'Développeur'}\n"
     ]
    }
   ],
   "source": [
    "\"\"\" Dictionaries:\n",
    "Dictionaries are unordered collections of items. \n",
    "They consist of key-value pairs enclosed in curly braces {}.\n",
    "Dictionaries are mutable and indexed by keys. \"\"\"\n",
    "# Définition d'un dictionnaire\n",
    "person = {\n",
    "    \"nom\": \"John\",\n",
    "    \"âge\": 30,\n",
    "    \"ville\": \"New York\"\n",
    "}\n",
    "\n",
    "# Accès aux valeurs du dictionnaire par clé\n",
    "print(person[\"nom\"])  # Output: John\n",
    "print(person[\"âge\"])  # Output: 30\n",
    "\n",
    "# Modification d'une valeur du dictionnaire\n",
    "person[\"ville\"] = \"Los Angeles\"\n",
    "print(person)  # Output: {\"nom\": \"John\", \"âge\": 30, \"ville\": \"Los Angeles\"}\n",
    "\n",
    "# Ajout d'une nouvelle paire clé-valeur au dictionnaire\n",
    "person[\"profession\"] = \"Développeur\"\n",
    "print(person)  # Output: {\"nom\": \"John\", \"âge\": 30, \"ville\": \"Los Angeles\", \"profession\": \"Développeur\"}\n"
   ]
  },
  {
   "cell_type": "code",
   "execution_count": 32,
   "id": "5eea7906-0d59-42c3-9042-a29993a44610",
   "metadata": {},
   "outputs": [
    {
     "name": "stdout",
     "output_type": "stream",
     "text": [
      "Répertoire de travail actuel : C:\\Users\\Hp\n",
      "Le répertoire 'nouveau_dossier' existe déjà.\n"
     ]
    }
   ],
   "source": [
    "\"\"\" Le module os fournit une manière portable d'interagir avec le système d'exploitation. \n",
    "Il offre des fonctions pour la manipulation de fichiers et de répertoires, \n",
    "la gestion de processus, les variables d'environnement, etc. \"\"\"\n",
    "import os\n",
    "\n",
    "current_directory = os.getcwd()\n",
    "print(\"Répertoire de travail actuel :\", current_directory)\n",
    "\n",
    "# Define the directory name\n",
    "directory_name = \"nouveau_dossier\"\n",
    "\n",
    "# Check if the directory already exists\n",
    "if not os.path.exists(directory_name):\n",
    "    # Create the new directory if it doesn't exist\n",
    "    os.mkdir(directory_name)\n",
    "    print(f\"Le répertoire '{directory_name}' a été créé avec succès.\")\n",
    "else:\n",
    "    print(f\"Le répertoire '{directory_name}' existe déjà.\")\n",
    "\n"
   ]
  },
  {
   "cell_type": "code",
   "execution_count": 33,
   "id": "45b942ba-5d7f-433b-8ba0-889ded0d81d0",
   "metadata": {},
   "outputs": [
    {
     "name": "stdout",
     "output_type": "stream",
     "text": [
      "Racine carrée de 25 : 5.0\n",
      "Sinus de pi/2 : 1.0\n"
     ]
    }
   ],
   "source": [
    "\"\"\" Le module math fournit des fonctions mathématiques et des constantes. \n",
    "Il inclut des fonctions telles que sqrt(), sin(), cos(), log(), etc.,\n",
    "et des constantes comme pi, e, etc.\"\"\"\n",
    "import math\n",
    "\n",
    "# Calcul de la racine carrée\n",
    "sqrt_result = math.sqrt(25)\n",
    "print(\"Racine carrée de 25 :\", sqrt_result)\n",
    "\n",
    "# Calcul du sinus\n",
    "sin_result = math.sin(math.pi/2)\n",
    "print(\"Sinus de pi/2 :\", sin_result)\n"
   ]
  },
  {
   "cell_type": "code",
   "execution_count": 35,
   "id": "28db4dda-46b4-4f3a-8964-7609f85d58d4",
   "metadata": {},
   "outputs": [
    {
     "name": "stdout",
     "output_type": "stream",
     "text": [
      "Nombre aléatoire entre 1 et 100 : 62\n",
      "Fruit aléatoire : fraise\n"
     ]
    }
   ],
   "source": [
    "\"\"\" Le module random est utilisé pour générer des nombres aléatoires. \n",
    "Il fournit des fonctions pour générer des nombres entiers aléatoires, \n",
    "sélectionner des éléments aléatoires dans une liste, mélanger des séquences, etc. \"\"\"\n",
    "import random\n",
    "\n",
    "# Génération d'un nombre aléatoire entre 1 et 100\n",
    "random_number = random.randint(1, 100)\n",
    "print(\"Nombre aléatoire entre 1 et 100 :\", random_number)\n",
    "\n",
    "# Sélection d'un élément aléatoire dans une liste\n",
    "fruits = [\"pomme\", \"banane\", \"orange\", \"fraise\"]\n",
    "random_fruit = random.choice(fruits)\n",
    "print(\"Fruit aléatoire :\", random_fruit)\n"
   ]
  },
  {
   "cell_type": "code",
   "execution_count": 36,
   "id": "9b54b425-aa7e-41f4-9782-b1e41ac533fc",
   "metadata": {},
   "outputs": [
    {
     "name": "stdout",
     "output_type": "stream",
     "text": [
      "Motif trouvé : hello hello\n"
     ]
    }
   ],
   "source": [
    "\"\"\"  Le module re fournit un support pour travailler avec des expressions régulières en Python.\n",
    "Il offre des fonctions pour la recherche de motifs, la recherche, le remplacement, etc., \n",
    "dans les chaînes de caractères. \"\"\"\n",
    "import re\n",
    "\n",
    "# Recherche d'un motif dans une chaîne de caractères\n",
    "pattern = r\"\\b(\\w+)\\s+\\1\\b\"\n",
    "matches = re.search(pattern, \"hello hello world\")\n",
    "if matches:\n",
    "    print(\"Motif trouvé :\", matches.group(0))\n"
   ]
  },
  {
   "cell_type": "code",
   "execution_count": 10,
   "id": "5efeb7f9-2976-483a-9bdf-853dfa5c71d2",
   "metadata": {},
   "outputs": [
    {
     "name": "stdout",
     "output_type": "stream",
     "text": [
      "1D Array:\n",
      "[1 2 3 4 5]\n",
      "\n",
      "2D Array:\n",
      "[[1 2 3]\n",
      " [4 5 6]\n",
      " [7 8 9]]\n",
      "\n",
      "3D Array:\n",
      "[[[1 2]\n",
      "  [3 4]]\n",
      "\n",
      " [[5 6]\n",
      "  [7 8]]]\n"
     ]
    }
   ],
   "source": [
    "\"\"\"array is a data structure that stores a collection of elements, \n",
    "typically of the same type. Arrays allow you to store multiple values under a single variable name\n",
    ", making it easier to organize and manipulate data. \"\"\"\n",
    "import numpy as np\n",
    "\n",
    "# Create a 1D array\n",
    "array_1d = np.array([1, 2, 3, 4, 5])\n",
    "print(\"1D Array:\")\n",
    "print(array_1d)\n",
    "\n",
    "# Create a 2D array (matrix)\n",
    "array_2d = np.array([[1, 2, 3], [4, 5, 6], [7, 8, 9]])\n",
    "print(\"\\n2D Array:\")\n",
    "print(array_2d)\n",
    "\n",
    "# Create a 3D array\n",
    "array_3d = np.array([[[1, 2], [3, 4]], [[5, 6], [7, 8]]])\n",
    "print(\"\\n3D Array:\")\n",
    "print(array_3d)\n"
   ]
  },
  {
   "cell_type": "code",
   "execution_count": 11,
   "id": "2ce8dbbd-c658-4a03-afa3-0b1af0e7bcb5",
   "metadata": {},
   "outputs": [
    {
     "name": "stdout",
     "output_type": "stream",
     "text": [
      "1\n",
      "1\n",
      "5\n",
      "1\n",
      "6\n"
     ]
    }
   ],
   "source": [
    "\"\"\"Indexing in arrays refers to the process of accessing elements of an array using\n",
    "their position or index within the array. Each element in an array is associated with\n",
    "a unique index, starting from 0 for the first element. \"\"\"\n",
    "# Access elements of a 1D array\n",
    "print(array_1d[0])  # Output: 1\n",
    "\n",
    "# Access elements of a 2D array\n",
    "print(array_2d[0, 0])  # Output: 1\n",
    "print(array_2d[1, 1])  # Output: 5\n",
    "\n",
    "# Access elements of a 3D array\n",
    "print(array_3d[0, 0, 0])  # Output: 1\n",
    "print(array_3d[1, 0, 1])  # Output: 6\n"
   ]
  },
  {
   "cell_type": "code",
   "execution_count": 12,
   "id": "e0548511-66d6-441f-bab2-12ecb3767e40",
   "metadata": {},
   "outputs": [
    {
     "name": "stdout",
     "output_type": "stream",
     "text": [
      "[3 4 5 6 7]\n",
      "[[ 2  4  6]\n",
      " [ 8 10 12]\n",
      " [14 16 18]]\n",
      "[[2 3 4]\n",
      " [3 4 5]\n",
      " [4 5 6]]\n"
     ]
    }
   ],
   "source": [
    "\"\"\"Broadcasting is a concept in array manipulation that allows arrays with different\n",
    "shapes to be combined in arithmetic operations. When performing operations on arrays\n",
    "with different shapes, NumPy automatically \"broadcasts\" the arrays to make their \n",
    "shapes compatible for element-wise operations. \"\"\"\n",
    "# Broadcast scalar to a 1D array\n",
    "print(array_1d + 2)  # Output: [3 4 5 6 7]\n",
    "\n",
    "# Broadcast scalar to a 2D array\n",
    "print(array_2d * 2)  # Output: [[ 2  4  6] [ 8 10 12] [14 16 18]]\n",
    "\n",
    "# Broadcast arrays of different shapes\n",
    "a = np.array([[1], [2], [3]])\n",
    "b = np.array([1, 2, 3])\n",
    "print(a + b)  # Output: [[2 3 4] [3 4 5] [4 5 6]]\n"
   ]
  },
  {
   "cell_type": "code",
   "execution_count": 14,
   "id": "e6fb3933-22d8-47c9-8351-4a8f35afeb3f",
   "metadata": {},
   "outputs": [
    {
     "name": "stdout",
     "output_type": "stream",
     "text": [
      "Copied Array:\n",
      "[1 2 3 4 5]\n",
      "\n",
      "Viewed Array:\n",
      "[1 2 3 4 5]\n"
     ]
    }
   ],
   "source": [
    "\"\"\" Copying arrays involves creating a new array that contains the same data as the \n",
    "original array, but is stored separately in memory. This ensures that modifications\n",
    "to one array do not affect the other array.\"\"\"\n",
    "# Copy an array\n",
    "array_copy = array_1d.copy()\n",
    "print(\"Copied Array:\")\n",
    "print(array_copy)\n",
    "\"\"\"Viewing arrays involves creating a \"view\" or \"slice\" of an existing array, \n",
    "which provides a different way to access and manipulate the same data.\n",
    "Unlike copying arrays, creating a view does not duplicate the data in memory;\n",
    "instead, it creates a new \"view\" of the original array's data. \"\"\"\n",
    "# Create a view of an array\n",
    "array_view = array_1d.view()\n",
    "print(\"\\nViewed Array:\")\n",
    "print(array_view)\n"
   ]
  },
  {
   "cell_type": "code",
   "execution_count": 2,
   "id": "003ffc59-80e7-4904-bb75-576c52c31263",
   "metadata": {},
   "outputs": [
    {
     "name": "stdout",
     "output_type": "stream",
     "text": [
      "      Name  Age         City\n",
      "0    Alice   25     New York\n",
      "1      Bob   30  Los Angeles\n",
      "2  Charlie   35      Chicago\n"
     ]
    }
   ],
   "source": [
    "\"\"\"Un DataFrame est une structure de données tabulaire bidimensionnelle avec des colonnes étiquetées.\n",
    "C'est l'une des structures de données les plus couramment utilisées dans pandas pour stocker et manipuler des données. \"\"\"\n",
    "import pandas as pd\n",
    "\n",
    "# Créer un DataFrame à partir d'un dictionnaire de listes\n",
    "data = {'Name': ['Alice', 'Bob', 'Charlie'],\n",
    "        'Age': [25, 30, 35],\n",
    "        'City': ['New York', 'Los Angeles', 'Chicago']}\n",
    "df = pd.DataFrame(data)\n",
    "\n",
    "print(df)\n"
   ]
  },
  {
   "cell_type": "code",
   "execution_count": 5,
   "id": "4206d7cb-6505-413a-af57-cd80b5398a8e",
   "metadata": {},
   "outputs": [
    {
     "name": "stdout",
     "output_type": "stream",
     "text": [
      "DataFrame original :\n",
      "      Mois  Produit A  Produit B\n",
      "0  Janvier        100         80\n",
      "1  Février        150        100\n",
      "2     Mars        120         90\n",
      "3    Avril        180        110\n"
     ]
    }
   ],
   "source": [
    "\"\"\" Manipuler les données avec pandas implique de travailler avec des DataFrames et des Series pour effectuer diverses opérations telles que l'ajout,\n",
    "la suppression, la sélection, le filtrage et le tri des données.\"\"\"\n",
    "import pandas as pd\n",
    "\n",
    "# Créer un DataFrame représentant les ventes mensuelles de produits\n",
    "data = {'Mois': ['Janvier', 'Février', 'Mars', 'Avril'],\n",
    "        'Produit A': [100, 150, 120, 180],\n",
    "        'Produit B': [80, 100, 90, 110]}\n",
    "df = pd.DataFrame(data)\n",
    "\n",
    "print(\"DataFrame original :\")\n",
    "print(df)\n"
   ]
  },
  {
   "cell_type": "code",
   "execution_count": 4,
   "id": "ba19c3c8-e151-4462-887a-178d8d7c7d40",
   "metadata": {},
   "outputs": [
    {
     "name": "stdout",
     "output_type": "stream",
     "text": [
      "DataFrame original :\n",
      "\n",
      "Après ajout de la colonne 'Ventes Totales' :\n",
      "      Mois  Produit A  Produit B  Ventes Totales\n",
      "0  Janvier        100         80             180\n",
      "1  Février        150        100             250\n",
      "2     Mars        120         90             210\n",
      "3    Avril        180        110             290\n"
     ]
    }
   ],
   "source": [
    "import pandas as pd\n",
    "\n",
    "# Créer un DataFrame représentant les ventes mensuelles de produits\n",
    "data = {'Mois': ['Janvier', 'Février', 'Mars', 'Avril'],\n",
    "        'Produit A': [100, 150, 120, 180],\n",
    "        'Produit B': [80, 100, 90, 110]}\n",
    "df = pd.DataFrame(data)\n",
    "\n",
    "print(\"DataFrame original :\")\n",
    "df['Ventes Totales'] = df['Produit A'] + df['Produit B']\n",
    "print(\"\\nAprès ajout de la colonne 'Ventes Totales' :\")\n",
    "print(df)\n"
   ]
  },
  {
   "cell_type": "code",
   "execution_count": 6,
   "id": "c2e48254-def8-4d1f-815e-0ac4ec1223b0",
   "metadata": {},
   "outputs": [
    {
     "name": "stdout",
     "output_type": "stream",
     "text": [
      "Series :\n",
      "a    10\n",
      "b    20\n",
      "c    30\n",
      "d    40\n",
      "e    50\n",
      "dtype: int64\n"
     ]
    }
   ],
   "source": [
    "\"\"\"Les structures de données principales fournies par la bibliothèque pandas sont les Series et les DataFrame.\"\"\"\n",
    "import pandas as pd\n",
    "\n",
    "# Créer une Series à partir d'une liste\n",
    "s = pd.Series([10, 20, 30, 40, 50], index=['a', 'b', 'c', 'd', 'e'])\n",
    "\n",
    "print(\"Series :\")\n",
    "print(s)\n"
   ]
  },
  {
   "cell_type": "code",
   "execution_count": 10,
   "id": "ebe1064e-a448-40fd-8ccf-0108dfe9ce8c",
   "metadata": {},
   "outputs": [
    {
     "data": {
      "image/png": "[encoded data removed]",
      "text/plain": [
       "<Figure size 800x600 with 1 Axes>"
      ]
     },
     "metadata": {},
     "output_type": "display_data"
    }
   ],
   "source": [
    "\"\"\"Use pyplot for data and image visualization \"\"\"\n",
    "import matplotlib.pyplot as plt\n",
    "import numpy as np\n",
    "\n",
    "# Example 1: Plotting Data\n",
    "x = np.linspace(0, 10, 100)\n",
    "y = np.sin(x)\n",
    "\n",
    "plt.figure(figsize=(8, 6))\n",
    "plt.plot(x, y, label='sin(x)')\n",
    "plt.title('Plot of sin(x)')\n",
    "plt.xlabel('x')\n",
    "plt.ylabel('sin(x)')\n",
    "plt.legend()\n",
    "plt.grid(True)\n",
    "plt.show()\n",
    "\n"
   ]
  },
  {
   "cell_type": "code",
   "execution_count": 11,
   "id": "34c2c2c7-f3f8-4b10-b713-21b37ac3328e",
   "metadata": {},
   "outputs": [
    {
     "name": "stdout",
     "output_type": "stream",
     "text": [
      "Error at layer i: [0.002 0.004 0.006]\n"
     ]
    }
   ],
   "source": [
    "import numpy as np\n",
    "\n",
    "# Define the sigmoid activation function and its derivative\n",
    "def sigmoid(x):\n",
    "    return 1 / (1 + np.exp(-x))\n",
    "\n",
    "def sigmoid_derivative(x):\n",
    "    return x * (1 - x)\n",
    "\n",
    "# Function to compute error at each layer\n",
    "def compute_error(xi, yt, error, weights, is_output_layer):\n",
    "    if is_output_layer:\n",
    "        return xi * (1 - yt) * error\n",
    "    else:\n",
    "        return xi * (1 - xi) * np.dot(weights.T, error)\n",
    "\n",
    "# Example usage\n",
    "xi = np.array([0.1, 0.2, 0.3])  # Input values at layer i\n",
    "yt = 0.8  # Target output value\n",
    "error = 0.1  # Error at layer k+1\n",
    "weights = np.array([[0.1, 0.2, 0.3], [0.4, 0.5, 0.6], [0.7, 0.8, 0.9]])  # Weights at layer k+1\n",
    "\n",
    "# Compute error at layer i\n",
    "output_layer = True  # Set to True if it's the output layer\n",
    "e = compute_error(xi, yt, error, weights, output_layer)\n",
    "print(\"Error at layer i:\", e)\n"
   ]
  },
  {
   "cell_type": "code",
   "execution_count": 12,
   "id": "91f4a4ef-82fc-4fab-9649-d49f7bcadda3",
   "metadata": {},
   "outputs": [
    {
     "name": "stdout",
     "output_type": "stream",
     "text": [
      "Updated weights: [[0.104 0.205 0.306]\n",
      " [0.408 0.51  0.612]\n",
      " [0.712 0.815 0.918]]\n",
      "Updated biases: [0.11 0.22 0.33]\n"
     ]
    }
   ],
   "source": [
    "# Function to update weights and biases\n",
    "def update_weights(learning_rate, error, input_data, weights_old, biases_old):\n",
    "    delta_weights = learning_rate * np.outer(error, input_data)\n",
    "    weights_new = weights_old + delta_weights\n",
    "    delta_biases = learning_rate * error\n",
    "    biases_new = biases_old + delta_biases\n",
    "    return weights_new, biases_new\n",
    "\n",
    "# Example usage\n",
    "learning_rate = 0.1\n",
    "error = np.array([0.1, 0.2, 0.3])  # Error at layer k\n",
    "input_data = np.array([0.4, 0.5, 0.6])  # Input values at layer k-1\n",
    "weights_old = np.array([[0.1, 0.2, 0.3], [0.4, 0.5, 0.6], [0.7, 0.8, 0.9]])  # Weights at layer k (old)\n",
    "biases_old = np.array([0.1, 0.2, 0.3])  # Biases at layer k (old)\n",
    "\n",
    "weights_new, biases_new = update_weights(learning_rate, error, input_data, weights_old, biases_old)\n",
    "print(\"Updated weights:\", weights_new)\n",
    "print(\"Updated biases:\", biases_new)\n"
   ]
  },
  {
   "cell_type": "code",
   "execution_count": null,
   "id": "03da9586-047a-444b-9276-24c7f86f430f",
   "metadata": {},
   "outputs": [],
   "source": []
  },
  {
   "cell_type": "code",
   "execution_count": null,
   "id": "69c09525-14f6-4185-ad1c-01a29a32ea41",
   "metadata": {},
   "outputs": [],
   "source": []
  }
 ],
 "metadata": {
  "kernelspec": {
   "display_name": "env_ai2",
   "language": "python",
   "name": "env_ai2"
  },
  "language_info": {
   "codemirror_mode": {
    "name": "ipython",
    "version": 3
   },
   "file_extension": ".py",
   "mimetype": "text/x-python",
   "name": "python",
   "nbconvert_exporter": "python",
   "pygments_lexer": "ipython3",
   "version": "3.11.8"
  }
 },
 "nbformat": 4,
 "nbformat_minor": 5
}
